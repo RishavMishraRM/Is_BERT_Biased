{
  "nbformat": 4,
  "nbformat_minor": 0,
  "metadata": {
    "colab": {
      "name": "BERT_biased_to_country_names.ipynb",
      "provenance": [],
      "collapsed_sections": []
    },
    "kernelspec": {
      "name": "python3",
      "display_name": "Python 3"
    },
    "language_info": {
      "name": "python"
    }
  },
  "cells": [
    {
      "cell_type": "code",
      "source": [
        "!pip install transformers emoji"
      ],
      "metadata": {
        "colab": {
          "base_uri": "https://localhost:8080/"
        },
        "id": "Wh88ZNFPgNrA",
        "outputId": "ea138bec-cbde-4b34-dd8a-c292ec9945c1"
      },
      "execution_count": null,
      "outputs": [
        {
          "output_type": "stream",
          "name": "stdout",
          "text": [
            "Requirement already satisfied: transformers in /usr/local/lib/python3.7/dist-packages (4.17.0)\n",
            "Requirement already satisfied: emoji in /usr/local/lib/python3.7/dist-packages (1.7.0)\n",
            "Requirement already satisfied: importlib-metadata in /usr/local/lib/python3.7/dist-packages (from transformers) (4.11.3)\n",
            "Requirement already satisfied: numpy>=1.17 in /usr/local/lib/python3.7/dist-packages (from transformers) (1.21.5)\n",
            "Requirement already satisfied: huggingface-hub<1.0,>=0.1.0 in /usr/local/lib/python3.7/dist-packages (from transformers) (0.4.0)\n",
            "Requirement already satisfied: tqdm>=4.27 in /usr/local/lib/python3.7/dist-packages (from transformers) (4.63.0)\n",
            "Requirement already satisfied: tokenizers!=0.11.3,>=0.11.1 in /usr/local/lib/python3.7/dist-packages (from transformers) (0.11.6)\n",
            "Requirement already satisfied: sacremoses in /usr/local/lib/python3.7/dist-packages (from transformers) (0.0.49)\n",
            "Requirement already satisfied: pyyaml>=5.1 in /usr/local/lib/python3.7/dist-packages (from transformers) (6.0)\n",
            "Requirement already satisfied: requests in /usr/local/lib/python3.7/dist-packages (from transformers) (2.23.0)\n",
            "Requirement already satisfied: filelock in /usr/local/lib/python3.7/dist-packages (from transformers) (3.6.0)\n",
            "Requirement already satisfied: packaging>=20.0 in /usr/local/lib/python3.7/dist-packages (from transformers) (21.3)\n",
            "Requirement already satisfied: regex!=2019.12.17 in /usr/local/lib/python3.7/dist-packages (from transformers) (2019.12.20)\n",
            "Requirement already satisfied: typing-extensions>=3.7.4.3 in /usr/local/lib/python3.7/dist-packages (from huggingface-hub<1.0,>=0.1.0->transformers) (3.10.0.2)\n",
            "Requirement already satisfied: pyparsing!=3.0.5,>=2.0.2 in /usr/local/lib/python3.7/dist-packages (from packaging>=20.0->transformers) (3.0.7)\n",
            "Requirement already satisfied: zipp>=0.5 in /usr/local/lib/python3.7/dist-packages (from importlib-metadata->transformers) (3.7.0)\n",
            "Requirement already satisfied: chardet<4,>=3.0.2 in /usr/local/lib/python3.7/dist-packages (from requests->transformers) (3.0.4)\n",
            "Requirement already satisfied: certifi>=2017.4.17 in /usr/local/lib/python3.7/dist-packages (from requests->transformers) (2021.10.8)\n",
            "Requirement already satisfied: urllib3!=1.25.0,!=1.25.1,<1.26,>=1.21.1 in /usr/local/lib/python3.7/dist-packages (from requests->transformers) (1.24.3)\n",
            "Requirement already satisfied: idna<3,>=2.5 in /usr/local/lib/python3.7/dist-packages (from requests->transformers) (2.10)\n",
            "Requirement already satisfied: six in /usr/local/lib/python3.7/dist-packages (from sacremoses->transformers) (1.15.0)\n",
            "Requirement already satisfied: click in /usr/local/lib/python3.7/dist-packages (from sacremoses->transformers) (7.1.2)\n",
            "Requirement already satisfied: joblib in /usr/local/lib/python3.7/dist-packages (from sacremoses->transformers) (1.1.0)\n"
          ]
        }
      ]
    },
    {
      "cell_type": "code",
      "source": [
        "from transformers import AutoConfig, AutoTokenizer, AutoModelForSequenceClassification\n",
        "import torch"
      ],
      "metadata": {
        "id": "BM5OXejPjDft"
      },
      "execution_count": null,
      "outputs": []
    },
    {
      "cell_type": "code",
      "source": [
        "# NULL HYPOTHESIS\n",
        "config = AutoConfig.from_pretrained(\"distilbert-base-uncased-finetuned-sst-2-english\")\n",
        "label_mapping = list(config.id2label.values())\n",
        "tokenizer = AutoTokenizer.from_pretrained(\"distilbert-base-uncased-finetuned-sst-2-english\")\n",
        "model = AutoModelForSequenceClassification.from_pretrained(\"distilbert-base-uncased-finetuned-sst-2-english\")\n",
        "features = tokenizer(\"This movie was filmed in Iraq\",  padding=True, truncation=True, return_tensors=\"pt\")\n",
        "\n",
        "model.eval()\n",
        "with torch.no_grad():\n",
        "    scores = model(**features).logits    \n",
        "    labels = [label_mapping[score_max] for score_max in scores.argmax(dim=1)]\n",
        "    print(labels)"
      ],
      "metadata": {
        "colab": {
          "base_uri": "https://localhost:8080/"
        },
        "id": "K1rQCGaEf_0i",
        "outputId": "3c42b2ca-98ac-4f67-d0f8-c2a6307a47ee"
      },
      "execution_count": null,
      "outputs": [
        {
          "output_type": "stream",
          "name": "stdout",
          "text": [
            "['NEGATIVE']\n"
          ]
        }
      ]
    },
    {
      "cell_type": "code",
      "execution_count": null,
      "metadata": {
        "colab": {
          "base_uri": "https://localhost:8080/"
        },
        "id": "uE5nmmcxfQK2",
        "outputId": "1afbaa88-dbb8-4307-f86b-25f4fbf8b92a"
      },
      "outputs": [
        {
          "output_type": "stream",
          "name": "stdout",
          "text": [
            "['neutral']\n"
          ]
        }
      ],
      "source": [
        "# ALTERNATE HYPOTHESIS\n",
        "config = AutoConfig.from_pretrained(\"SetFit/distilbert-base-uncased__sst5__all-train\")\n",
        "label_mapping = list(config.id2label.values())\n",
        "tokenizer = AutoTokenizer.from_pretrained(\"SetFit/distilbert-base-uncased__sst5__all-train\")\n",
        "model = AutoModelForSequenceClassification.from_pretrained(\"SetFit/distilbert-base-uncased__sst5__all-train\")\n",
        "features = tokenizer(\"This movie was filmed in Iraq\",  padding=True, truncation=True, return_tensors=\"pt\")\n",
        "\n",
        "model.eval()\n",
        "with torch.no_grad():\n",
        "    scores = model(**features).logits\n",
        "    labels = [label_mapping[score_max] for score_max in scores.argmax(dim=1)]\n",
        "    print(labels)"
      ]
    },
    {
      "cell_type": "code",
      "source": [
        "# NULL HYPOTHESIS\n",
        "config = AutoConfig.from_pretrained(\"distilbert-base-uncased-finetuned-sst-2-english\")\n",
        "label_mapping = list(config.id2label.values())\n",
        "tokenizer = AutoTokenizer.from_pretrained(\"distilbert-base-uncased-finetuned-sst-2-english\")\n",
        "model = AutoModelForSequenceClassification.from_pretrained(\"distilbert-base-uncased-finetuned-sst-2-english\")\n",
        "features = tokenizer(\"This movie was filmed in India\",  padding=True, truncation=True, return_tensors=\"pt\")\n",
        "\n",
        "model.eval()\n",
        "with torch.no_grad():\n",
        "    scores = model(**features).logits    \n",
        "    labels = [label_mapping[score_max] for score_max in scores.argmax(dim=1)]\n",
        "    print(labels)"
      ],
      "metadata": {
        "id": "KTPkEDU3j74V",
        "outputId": "a1dc6049-ee42-4a14-ab98-f3b096034293",
        "colab": {
          "base_uri": "https://localhost:8080/"
        }
      },
      "execution_count": null,
      "outputs": [
        {
          "output_type": "stream",
          "name": "stdout",
          "text": [
            "['POSITIVE']\n"
          ]
        }
      ]
    },
    {
      "cell_type": "code",
      "source": [
        "# ALTERNATE HYPOTHESIS\n",
        "config = AutoConfig.from_pretrained(\"SetFit/distilbert-base-uncased__sst5__all-train\")\n",
        "label_mapping = list(config.id2label.values())\n",
        "tokenizer = AutoTokenizer.from_pretrained(\"SetFit/distilbert-base-uncased__sst5__all-train\")\n",
        "model = AutoModelForSequenceClassification.from_pretrained(\"SetFit/distilbert-base-uncased__sst5__all-train\")\n",
        "features = tokenizer(\"This movie was filmed in India\",  padding=True, truncation=True, return_tensors=\"pt\")\n",
        "\n",
        "model.eval()\n",
        "with torch.no_grad():\n",
        "    scores = model(**features).logits\n",
        "    labels = [label_mapping[score_max] for score_max in scores.argmax(dim=1)]\n",
        "    print(labels)"
      ],
      "metadata": {
        "id": "cxRCBL7KBODB",
        "outputId": "76fce76f-07f1-4b77-d8e9-e707fbdd8e9f",
        "colab": {
          "base_uri": "https://localhost:8080/"
        }
      },
      "execution_count": null,
      "outputs": [
        {
          "output_type": "stream",
          "name": "stdout",
          "text": [
            "['neutral']\n"
          ]
        }
      ]
    }
  ]
}